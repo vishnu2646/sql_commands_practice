{
 "cells": [
  {
   "cell_type": "code",
   "execution_count": 1,
   "id": "5c233ba3-e4b0-438f-bdad-c2c0ec884d7a",
   "metadata": {},
   "outputs": [],
   "source": [
    "import os\n",
    "import mysql.connector\n",
    "import pandas as pd\n",
    "import numpy as np"
   ]
  },
  {
   "cell_type": "code",
   "execution_count": 3,
   "id": "6c169e2b-ab95-460c-9e22-28e110d8c718",
   "metadata": {},
   "outputs": [],
   "source": [
    "connection = mysql.connector.connect(host='<your host>', user='<your_username>', password='<your_password>')"
   ]
  },
  {
   "cell_type": "code",
   "execution_count": 6,
   "id": "5ed3ce13-646d-48ed-99bc-66b507cdd262",
   "metadata": {},
   "outputs": [
    {
     "name": "stdout",
     "output_type": "stream",
     "text": [
      "('information_schema',)\n",
      "('datamites_sql',)\n"
     ]
    }
   ],
   "source": [
    "cursor = connection.cursor()\n",
    "cursor.execute('show databases')\n",
    "for i in cursor:\n",
    "    print(i)"
   ]
  },
  {
   "cell_type": "code",
   "execution_count": 7,
   "id": "5aced23f-4121-47bc-821b-4c16756661a3",
   "metadata": {},
   "outputs": [],
   "source": [
    "connection = mysql.connector.connect(host='<your host>', user='<your_username>', password='<your_password>', database=\n",
    "                                    '<your_data_base>')"
   ]
  },
  {
   "cell_type": "code",
   "execution_count": 8,
   "id": "5cd4a4f2-37f5-4ca8-8794-a3ea9c874455",
   "metadata": {},
   "outputs": [
    {
     "name": "stdout",
     "output_type": "stream",
     "text": [
      "  Tables_in_datamites_sql\n",
      "0                 Country\n",
      "1               customers\n",
      "2                    dept\n",
      "3                     emp\n",
      "4                  orders\n",
      "5                products\n",
      "6                salgrade\n"
     ]
    },
    {
     "name": "stderr",
     "output_type": "stream",
     "text": [
      "C:\\Users\\Admin\\AppData\\Local\\Temp\\ipykernel_18144\\682653240.py:1: UserWarning: pandas only supports SQLAlchemy connectable (engine/connection) or database string URI or sqlite3 DBAPI2 connection. Other DBAPI2 objects are not tested. Please consider using SQLAlchemy.\n",
      "  db_tables = pd.read_sql_query('show tables', connection)\n"
     ]
    }
   ],
   "source": [
    "db_tables = pd.read_sql_query('show tables', connection)\n",
    "print(db_tables)"
   ]
  },
  {
   "cell_type": "code",
   "execution_count": 10,
   "id": "da2b62fa-4727-4e39-9bac-45286a8e4916",
   "metadata": {},
   "outputs": [
    {
     "name": "stdout",
     "output_type": "stream",
     "text": [
      "(9, 6)\n",
      "         order_id  order_date customer_id       product_id   sales  quantity\n",
      "0  CA-2015-115812    6/9/2015    BH-11710  FUR-FU-10001487  48.860         7\n",
      "1  CA-2017-105654  12/10/2017    BH-11710  FUR-TA-10000577  71.530         3\n",
      "2  CA-2017-138688   6/12/2017    DV-13045  OFF-LA-10000240  14.620         2\n",
      "3  CA-2017-152156   11/8/2017    CG-12520  FUR-BO-10001798  58.960         2\n",
      "4  CA-2018-109265    2/8/2018    BH-11710  OFF-LA-10000240  14.620         5\n",
      "5  CA-2018-109862    4/9/2018    DV-13045  OFF-PA-10002365  15.552         1\n",
      "6  CA-2018-112417    6/8/2018    SO-20335  OFF-PA-10002365  15.552         2\n",
      "7  CA-2018-114412   4/11/2018    AA-10480  OFF-PA-10002365  15.552         3\n",
      "8  US-2016-108966  10/11/2017    SO-20335  FUR-TA-10000577  69.650         5\n"
     ]
    },
    {
     "name": "stderr",
     "output_type": "stream",
     "text": [
      "C:\\Users\\Admin\\AppData\\Local\\Temp\\ipykernel_18144\\4291407193.py:2: UserWarning: pandas only supports SQLAlchemy connectable (engine/connection) or database string URI or sqlite3 DBAPI2 connection. Other DBAPI2 objects are not tested. Please consider using SQLAlchemy.\n",
      "  output = pd.read_sql_query(query, connection)\n"
     ]
    }
   ],
   "source": [
    "query = 'select * from orders' # can change any query needed.\n",
    "output = pd.read_sql_query(query, connection)\n",
    "print(output.shape)\n",
    "print(output)   "
   ]
  },
  {
   "cell_type": "code",
   "execution_count": null,
   "id": "0b296af6-4533-49d0-af55-2279c5428f65",
   "metadata": {},
   "outputs": [],
   "source": []
  }
 ],
 "metadata": {
  "kernelspec": {
   "display_name": "Python 3 (ipykernel)",
   "language": "python",
   "name": "python3"
  },
  "language_info": {
   "codemirror_mode": {
    "name": "ipython",
    "version": 3
   },
   "file_extension": ".py",
   "mimetype": "text/x-python",
   "name": "python",
   "nbconvert_exporter": "python",
   "pygments_lexer": "ipython3",
   "version": "3.11.0"
  }
 },
 "nbformat": 4,
 "nbformat_minor": 5
}
